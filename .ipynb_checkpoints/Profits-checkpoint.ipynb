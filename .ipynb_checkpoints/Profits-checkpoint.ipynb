{
 "cells": [
  {
   "cell_type": "code",
   "execution_count": null,
   "metadata": {
    "collapsed": true
   },
   "outputs": [],
   "source": [
    "\"\"\" pred_series = panda series \"\"\"\n",
    "def simulate(filtered_df, pred_series):\n",
    "    \n",
    "    profits = []\n",
    "\n",
    "    for index, pred in enumerate(pred_series):\n",
    "        curr_share_value = filtered_df.iloc[index]['price_before']\n",
    "        new_share_value = filtered_df.iloc[index]['price_after']\n",
    "        actual = filtered_df.iloc[index]['y']\n",
    "        if (pred == 1): # buy\n",
    "            profits += [new_share_value - curr_share_value]\n",
    "\n",
    "        elif (pred == 0): # sell\n",
    "             profits += [curr_share_value - new_share_value]\n",
    "\n",
    "    print 'Average profits:', np.mean(profits)\n",
    "    print 'Total profits:', np.sum(profits)\n",
    "    print \n",
    "    \n",
    "bag_to_use = \n",
    "model_to_use =\n",
    "filtered_df['random'] = ''\n",
    "filtered_df['model'] = ''\n",
    "\n",
    "for i in range (0, filtered_df.shape[0]):\n",
    "    filtered_df['random'].values[i] = round(np.random.rand())\n",
    "    \n",
    "filtered_df['model'] = model_to_use.predict(bag_to_use)\n",
    "\n",
    "print 'Random (50/50):'\n",
    "simulate(filtered_df, filtered_df['random'])\n",
    "print 'Model prediction:'\n",
    "simulate(filtered_df, filtered_df['model'])\n",
    "print 'Always buy:'\n",
    "simulate(filtered_df, np.zeros((filtered_df.shape[0], 1)) + 1)\n",
    "print 'Always sell:'\n",
    "simulate(filtered_df, np.zeros((filtered_df.shape[0], 1)))\n",
    "print 'Fortune teller:'\n",
    "simulate(filtered_df, filtered_df['y'])"
   ]
  }
 ],
 "metadata": {
  "kernelspec": {
   "display_name": "Python [Root]",
   "language": "python",
   "name": "Python [Root]"
  },
  "language_info": {
   "codemirror_mode": {
    "name": "ipython",
    "version": 2
   },
   "file_extension": ".py",
   "mimetype": "text/x-python",
   "name": "python",
   "nbconvert_exporter": "python",
   "pygments_lexer": "ipython2",
   "version": "2.7.12"
  }
 },
 "nbformat": 4,
 "nbformat_minor": 0
}
