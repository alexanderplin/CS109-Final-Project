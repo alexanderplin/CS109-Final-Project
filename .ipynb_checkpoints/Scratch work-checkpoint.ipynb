{
 "cells": [
  {
   "cell_type": "markdown",
   "metadata": {},
   "source": [
    "# Scratch\n",
    "#### Angela Jiang, Alexander Lin, Jason Shen"
   ]
  },
  {
   "cell_type": "code",
   "execution_count": 55,
   "metadata": {
    "collapsed": false
   },
   "outputs": [
    {
     "name": "stdout",
     "output_type": "stream",
     "text": [
      "[nltk_data] Downloading package stopwords to\n",
      "[nltk_data]     C:\\Users\\Admin\\AppData\\Roaming\\nltk_data...\n",
      "[nltk_data]   Package stopwords is already up-to-date!\n"
     ]
    }
   ],
   "source": [
    "import numpy as np\n",
    "import pandas as pd\n",
    "import matplotlib\n",
    "import matplotlib.pyplot as plt\n",
    "from sklearn import linear_model\n",
    "import nltk\n",
    "nltk.download(\"stopwords\")\n",
    "from nltk.corpus import stopwords\n",
    "from datetime import timedelta\n",
    "from sklearn.linear_model import LogisticRegression as LogReg\n",
    "from sklearn.linear_model import LogisticRegressionCV as LogRegCV\n",
    "from sklearn.linear_model import LinearRegression as LinReg\n",
    "import math\n",
    "import string \n",
    "from six.moves.html_parser import HTMLParser\n",
    "import urllib2\n",
    "import json\n",
    "import time\n",
    "from functools import wraps\n",
    "%matplotlib inline"
   ]
  },
  {
   "cell_type": "code",
   "execution_count": 61,
   "metadata": {
    "collapsed": false
   },
   "outputs": [
    {
     "data": {
      "text/html": [
       "<div>\n",
       "<table border=\"1\" class=\"dataframe\">\n",
       "  <thead>\n",
       "    <tr style=\"text-align: right;\">\n",
       "      <th></th>\n",
       "      <th>date</th>\n",
       "      <th>close</th>\n",
       "      <th>volume</th>\n",
       "      <th>open</th>\n",
       "      <th>high</th>\n",
       "      <th>low</th>\n",
       "    </tr>\n",
       "  </thead>\n",
       "  <tbody>\n",
       "    <tr>\n",
       "      <th>0</th>\n",
       "      <td>2016-12-02</td>\n",
       "      <td>109.90</td>\n",
       "      <td>26481320.0</td>\n",
       "      <td>109.170</td>\n",
       "      <td>110.090</td>\n",
       "      <td>108.85</td>\n",
       "    </tr>\n",
       "    <tr>\n",
       "      <th>1</th>\n",
       "      <td>2016-12-01</td>\n",
       "      <td>109.49</td>\n",
       "      <td>37034520.0</td>\n",
       "      <td>110.365</td>\n",
       "      <td>110.940</td>\n",
       "      <td>109.03</td>\n",
       "    </tr>\n",
       "    <tr>\n",
       "      <th>2</th>\n",
       "      <td>2016-11-30</td>\n",
       "      <td>110.52</td>\n",
       "      <td>36151450.0</td>\n",
       "      <td>111.600</td>\n",
       "      <td>112.200</td>\n",
       "      <td>110.27</td>\n",
       "    </tr>\n",
       "    <tr>\n",
       "      <th>3</th>\n",
       "      <td>2016-11-29</td>\n",
       "      <td>111.46</td>\n",
       "      <td>28507780.0</td>\n",
       "      <td>110.780</td>\n",
       "      <td>112.030</td>\n",
       "      <td>110.07</td>\n",
       "    </tr>\n",
       "    <tr>\n",
       "      <th>4</th>\n",
       "      <td>2016-11-28</td>\n",
       "      <td>111.57</td>\n",
       "      <td>27054320.0</td>\n",
       "      <td>111.430</td>\n",
       "      <td>112.465</td>\n",
       "      <td>111.39</td>\n",
       "    </tr>\n",
       "  </tbody>\n",
       "</table>\n",
       "</div>"
      ],
      "text/plain": [
       "        date   close      volume     open     high     low\n",
       "0 2016-12-02  109.90  26481320.0  109.170  110.090  108.85\n",
       "1 2016-12-01  109.49  37034520.0  110.365  110.940  109.03\n",
       "2 2016-11-30  110.52  36151450.0  111.600  112.200  110.27\n",
       "3 2016-11-29  111.46  28507780.0  110.780  112.030  110.07\n",
       "4 2016-11-28  111.57  27054320.0  111.430  112.465  111.39"
      ]
     },
     "execution_count": 61,
     "metadata": {},
     "output_type": "execute_result"
    }
   ],
   "source": [
    "stock_price = pd.read_csv('12-4-06-to-12-3-16-Quotes.csv', parse_dates = [0], keep_date_col = True, encoding = 'cp1252')\n",
    "\n",
    "stock_price.head(n=5)"
   ]
  },
  {
   "cell_type": "code",
   "execution_count": 49,
   "metadata": {
    "collapsed": false
   },
   "outputs": [
    {
     "name": "stdout",
     "output_type": "stream",
     "text": [
      "Ones Count - Train:  329\n",
      "Zeros Count - Train:  321\n",
      "Ones Count - Test:  1037\n",
      "Zeros Count - Test:  910\n"
     ]
    }
   ],
   "source": [
    "train_size = .25\n",
    "\n",
    "x_train = bag_words[:int(math.ceil(train_size*len(bag_words)))]\n",
    "y_train = filtered_df['y'].values[:int(math.ceil(train_size*len(bag_words)))]\n",
    "\n",
    "x_test = bag_words[int(math.ceil(train_size*len(bag_words))):]\n",
    "y_test = filtered_df['y'].values[int(math.ceil(train_size*len(bag_words))):]\n",
    "\n",
    "ones_test = np.count_nonzero(y_test)\n",
    "zeros_test = len(y_test) - ones_test\n",
    "ones_train = np.count_nonzero(y_train)\n",
    "zeros_train = len(y_train) - ones_train\n",
    "\n",
    "print 'Ones Count - Train: ', ones_train\n",
    "print 'Zeros Count - Train: ', zeros_train\n",
    "print 'Ones Count - Test: ', ones_test\n",
    "print 'Zeros Count - Test: ', zeros_test"
   ]
  },
  {
   "cell_type": "code",
   "execution_count": 50,
   "metadata": {
    "collapsed": false
   },
   "outputs": [
    {
     "data": {
      "text/plain": [
       "LogisticRegressionCV(Cs=array([  1.00000e-10,   1.00000e-09,   1.00000e-08,   1.00000e-07,\n",
       "         1.00000e-06,   1.00000e-05,   1.00000e-04,   1.00000e-03,\n",
       "         1.00000e-02,   1.00000e-01,   1.00000e+00,   1.00000e+01,\n",
       "         1.00000e+02,   1.00000e+03,   1.00000e+04]),\n",
       "           class_weight=None, cv=5, dual=False, fit_intercept=True,\n",
       "           intercept_scaling=1.0, max_iter=100, multi_class='ovr',\n",
       "           n_jobs=1, penalty='l2', random_state=None, refit=True,\n",
       "           scoring=None, solver='liblinear', tol=0.0001, verbose=0)"
      ]
     },
     "execution_count": 50,
     "metadata": {},
     "output_type": "execute_result"
    }
   ],
   "source": [
    "regularization = 10.**np.arange(-10, 5)\n",
    "logistic = LogRegCV(cv=5, \n",
    "                    penalty='l2', \n",
    "                    Cs=regularization, \n",
    "                    solver='liblinear', \n",
    "                    n_jobs=1)\n",
    "logistic.fit(x_train, y_train)"
   ]
  },
  {
   "cell_type": "code",
   "execution_count": 51,
   "metadata": {
    "collapsed": false
   },
   "outputs": [
    {
     "data": {
      "text/plain": [
       "0.47354904982023627"
      ]
     },
     "execution_count": 51,
     "metadata": {},
     "output_type": "execute_result"
    }
   ],
   "source": [
    "logistic.score(x_test, y_test)"
   ]
  },
  {
   "cell_type": "code",
   "execution_count": 53,
   "metadata": {
    "collapsed": false
   },
   "outputs": [],
   "source": [
    "train_sizes = np.arange(0.1, 0.9, 0.025)\n",
    "scores_train = np.zeros(len(train_sizes))\n",
    "scores_test = np.zeros(len(train_sizes))\n",
    "scores_index = 0\n",
    "\n",
    "for i in train_sizes:\n",
    "    \n",
    "    x_train = bag_words[:int(math.ceil(i*len(bag_words)))]\n",
    "    y_train = filtered_df['y'].values[:int(math.ceil(i*len(bag_words)))]\n",
    "\n",
    "    x_test = bag_words[int(math.ceil(i*len(bag_words))):]\n",
    "    y_test = filtered_df['y'].values[int(math.ceil(i*len(bag_words))):]\n",
    "    \n",
    "    regularization = 10.**np.arange(-10, 5)\n",
    "    logistic = LogRegCV(cv=5, \n",
    "                        penalty='l2', \n",
    "                        Cs=regularization, \n",
    "                        solver='liblinear', \n",
    "                        n_jobs=1)\n",
    "    logistic.fit(x_train, y_train)\n",
    "    \n",
    "    scores_test[scores_index] = logistic.score(x_test, y_test)\n",
    "    scores_train[scores_index] = logistic.score(x_train, y_train)\n",
    "    scores_index += 1\n",
    "    "
   ]
  },
  {
   "cell_type": "code",
   "execution_count": null,
   "metadata": {
    "collapsed": false
   },
   "outputs": [],
   "source": [
    "print bag_words"
   ]
  },
  {
   "cell_type": "code",
   "execution_count": 66,
   "metadata": {
    "collapsed": false
   },
   "outputs": [],
   "source": [
    "pd.DataFrame(np.array(bag_words).astype(int)).to_excel('bagofwords.xlsx')"
   ]
  },
  {
   "cell_type": "code",
   "execution_count": 54,
   "metadata": {
    "collapsed": false
   },
   "outputs": [
    {
     "data": {
      "image/png": "[encoded data removed]",
      "text/plain": [
       "<matplotlib.figure.Figure at 0x316dba90>"
      ]
     },
     "metadata": {},
     "output_type": "display_data"
    }
   ],
   "source": [
    "fig, ax = plt.subplots(1, 1, figsize=(15, 5))\n",
    "\n",
    "ax.plot(train_sizes, scores_train, label='Train')\n",
    "ax.plot(train_sizes, scores_test, label='Test')\n",
    "\n",
    "ax.set_xlabel('Training Size')\n",
    "\n",
    "ax.set_ylabel('Score')\n",
    "ax.set_ylim(0.3,1.1)\n",
    "ax.set_title('Test and Train Scores vs Training Size')\n",
    "\n",
    "#Turn the labels sideways so they don't overlap\n",
    "plt.setp(labels, rotation=90, fontsize=10)\n",
    "plt.legend()\n",
    "plt.show()"
   ]
  },
  {
   "cell_type": "code",
   "execution_count": null,
   "metadata": {
    "collapsed": false
   },
   "outputs": [],
   "source": []
  },
  {
   "cell_type": "code",
   "execution_count": 133,
   "metadata": {
    "collapsed": false
   },
   "outputs": [
    {
     "name": "stdout",
     "output_type": "stream",
     "text": [
      "Original (2006): 0\n",
      "Filtered (2006): 0\n",
      "Original (2007): 646\n",
      "Filtered (2007): 94\n",
      "Original (2008): 6\n",
      "Filtered (2008): 0\n",
      "Original (2009): 6\n",
      "Filtered (2009): 0\n",
      "Original (2010): 36\n",
      "Filtered (2010): 0\n",
      "Original (2011): 75\n",
      "Filtered (2011): 2\n",
      "Original (2012): 9\n",
      "Filtered (2012): 3\n",
      "Original (2013): 18\n",
      "Filtered (2013): 0\n",
      "Original (2014): 66\n",
      "Filtered (2014): 0\n",
      "Original (2015): 87\n",
      "Filtered (2015): 2\n",
      "Original (2016): 3757\n",
      "Filtered (2016): 144\n"
     ]
    }
   ],
   "source": [
    "years = range(2006, 2017)\n",
    "for year in years:\n",
    "    original_year_df = df[(df['publish_date'] >= str(year) + '-01-01') & (df['publish_date'] <= str(year) + '-12-31')]\n",
    "    filtered_year_df = filtered_df[(filtered_df['publish_date'] >= str(year) + '-01-01') & (filtered_df['publish_date'] <= str(year) + '-12-31')]\n",
    "    print 'Original ({}): {}'.format(year, original_year_df.shape[0])\n",
    "    print 'Filtered ({}): {}'.format(year, filtered_year_df.shape[0])"
   ]
  }
 ],
 "metadata": {
  "anaconda-cloud": {},
  "kernelspec": {
   "display_name": "Python [Root]",
   "language": "python",
   "name": "Python [Root]"
  },
  "language_info": {
   "codemirror_mode": {
    "name": "ipython",
    "version": 2
   },
   "file_extension": ".py",
   "mimetype": "text/x-python",
   "name": "python",
   "nbconvert_exporter": "python",
   "pygments_lexer": "ipython2",
   "version": "2.7.12"
  }
 },
 "nbformat": 4,
 "nbformat_minor": 0
}
