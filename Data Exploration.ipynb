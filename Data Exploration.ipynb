{
 "cells": [
  {
   "cell_type": "markdown",
   "metadata": {},
   "source": [
    "# Stock Price Data Exploration "
   ]
  },
  {
   "cell_type": "markdown",
   "metadata": {},
   "source": [
    "We were deciding between two different methods of grabbing the stock data. \n",
    "1. via API calls from (where??)\n",
    "2. via direct CSV download from NASDAQ \n",
    "\n",
    "We decided on the second because it would be simpler and fulfill our purposes for the project.\n",
    "\n",
    "For initial exploration of data we thought about some of the aspects of the data that we would be interested in seeing. The data gives us a couple of metrics (<--what word do i use here??) to work with:\n",
    "\n",
    "* Close - The price of the stock at the end of the trading day.\n",
    "* Open - The price of the stock at the beginning of the trading day.\n",
    "* Volume - The number of shares that were traded that day\n",
    "* High - The peak price of the stock for that day\n",
    "* Low - The lowest price of the stock for that day\n",
    "\n",
    "What sort of relationships between these metrics did we want to see?\n",
    "\n",
    "1. We can look at how a given metric can change over different windows/intervals of time. For example, how the closing price changed over the course of the last month versus the change over the last year.\n",
    "\n",
    "2. Which metrics are more meaningful?\n",
    "    * We're not really sure yet, so we should probably have a function that takes in the metric as a parameter and graphs accordingly.\n",
    "\n",
    "We created functions that would allow us to generate these relationships with greater ease.\n",
    "\n",
    "* filter_data_by_date\n",
    "  * Allows us to choose the time interval we want to look at and filters the data to match this interval\n",
    "  \n",
    "* plot_stock_data\n",
    "  * Function that plots the metric of our choosing."
   ]
  },
  {
   "cell_type": "code",
   "execution_count": 20,
   "metadata": {
    "collapsed": true
   },
   "outputs": [],
   "source": [
    "import numpy as np\n",
    "import pandas as pd\n",
    "import matplotlib\n",
    "import matplotlib.pyplot as plt\n",
    "from sklearn import linear_model\n",
    "%matplotlib inline"
   ]
  },
  {
   "cell_type": "code",
   "execution_count": 12,
   "metadata": {
    "collapsed": false
   },
   "outputs": [
    {
     "data": {
      "text/html": [
       "<div>\n",
       "<table border=\"1\" class=\"dataframe\">\n",
       "  <thead>\n",
       "    <tr style=\"text-align: right;\">\n",
       "      <th></th>\n",
       "      <th>date</th>\n",
       "      <th>close</th>\n",
       "      <th>volume</th>\n",
       "      <th>open</th>\n",
       "      <th>high</th>\n",
       "      <th>low</th>\n",
       "    </tr>\n",
       "  </thead>\n",
       "  <tbody>\n",
       "    <tr>\n",
       "      <th>0</th>\n",
       "      <td>2016-11-04</td>\n",
       "      <td>108.84</td>\n",
       "      <td>30790930.0</td>\n",
       "      <td>108.53</td>\n",
       "      <td>110.25</td>\n",
       "      <td>108.11</td>\n",
       "    </tr>\n",
       "    <tr>\n",
       "      <th>1</th>\n",
       "      <td>2016-11-03</td>\n",
       "      <td>109.83</td>\n",
       "      <td>26538700.0</td>\n",
       "      <td>110.98</td>\n",
       "      <td>111.46</td>\n",
       "      <td>109.55</td>\n",
       "    </tr>\n",
       "    <tr>\n",
       "      <th>2</th>\n",
       "      <td>2016-11-02</td>\n",
       "      <td>111.59</td>\n",
       "      <td>28174980.0</td>\n",
       "      <td>111.40</td>\n",
       "      <td>112.35</td>\n",
       "      <td>111.23</td>\n",
       "    </tr>\n",
       "    <tr>\n",
       "      <th>3</th>\n",
       "      <td>2016-11-01</td>\n",
       "      <td>111.49</td>\n",
       "      <td>43403760.0</td>\n",
       "      <td>113.46</td>\n",
       "      <td>113.77</td>\n",
       "      <td>110.53</td>\n",
       "    </tr>\n",
       "    <tr>\n",
       "      <th>4</th>\n",
       "      <td>2016-10-31</td>\n",
       "      <td>113.54</td>\n",
       "      <td>26378910.0</td>\n",
       "      <td>113.65</td>\n",
       "      <td>114.23</td>\n",
       "      <td>113.20</td>\n",
       "    </tr>\n",
       "  </tbody>\n",
       "</table>\n",
       "</div>"
      ],
      "text/plain": [
       "        date   close      volume    open    high     low\n",
       "0 2016-11-04  108.84  30790930.0  108.53  110.25  108.11\n",
       "1 2016-11-03  109.83  26538700.0  110.98  111.46  109.55\n",
       "2 2016-11-02  111.59  28174980.0  111.40  112.35  111.23\n",
       "3 2016-11-01  111.49  43403760.0  113.46  113.77  110.53\n",
       "4 2016-10-31  113.54  26378910.0  113.65  114.23  113.20"
      ]
     },
     "execution_count": 12,
     "metadata": {},
     "output_type": "execute_result"
    }
   ],
   "source": [
    "aapl_data = pd.read_csv('AAPL.csv', parse_dates = [0], keep_date_col = True)\n",
    "aapl_data.head(n=5)"
   ]
  },
  {
   "cell_type": "code",
   "execution_count": null,
   "metadata": {
    "collapsed": false
   },
   "outputs": [],
   "source": [
    "def filter_data_by_date(data, date_start, date_end):\n",
    "    return data[(data['date'] > date_start) & (data['date'] < date_end)]\n",
    "\n",
    "def plot_stock_data(data, ax, option=\"close\", title=\"\", lin_reg=False):\n",
    "    ax.set_title(title)\n",
    "    ax.plot(data['date'].values, data[option].values)\n",
    "    \n",
    "    if(lin_reg):\n",
    "        lin_reg = linear_model.LinearRegression()\n",
    "        x_vals = np.arange(len(data['date'].values)).reshape(len(data['date'].values),1)\n",
    "        lin_reg.fit(x_vals, data[option].values)\n",
    "        y = lin_reg.predict([[0],[len(data['date'].values)-1]])\n",
    "        ax.plot([data['date'].values[0], data['date'].values[len(data['date'].values)-1]], y)\n",
    "    \n",
    "    for tick in ax.get_xticklabels():\n",
    "        tick.set_rotation(45)\n",
    "    \n",
    "    return ax\n",
    "\n",
    "fig, ax = plt.subplots(2, 2, figsize=(20, 10))\n",
    "plot_stock_data(aapl_data, ax[0][0], title=\"10 years AAPL\", lin_reg=True)\n",
    "plot_stock_data(filter_data_by_date(aapl_data,'2015-1-1', '2015-12-31'), ax[0][1], title=\"1 year AAPL: 2015\", lin_reg=True)\n",
    "plot_stock_data(filter_data_by_date(aapl_data,'2016-7-1', '2016-12-31'), ax[1][0], title=\"6 months AAPL: 2016\", lin_reg=True)\n",
    "plot_stock_data(filter_data_by_date(aapl_data,'2016-10-1', '2016-10-31'), ax[1][1], title=\"1 month OCT 2016 AAPL\", lin_reg=True)\n",
    "plt.tight_layout()\n",
    "plt.show()"
   ]
  },
  {
   "cell_type": "code",
   "execution_count": null,
   "metadata": {
    "collapsed": true
   },
   "outputs": [],
   "source": []
  }
 ],
 "metadata": {
  "anaconda-cloud": {},
  "kernelspec": {
   "display_name": "Python [Root]",
   "language": "python",
   "name": "Python [Root]"
  },
  "language_info": {
   "codemirror_mode": {
    "name": "ipython",
    "version": 2
   },
   "file_extension": ".py",
   "mimetype": "text/x-python",
   "name": "python",
   "nbconvert_exporter": "python",
   "pygments_lexer": "ipython2",
   "version": "2.7.12"
  }
 },
 "nbformat": 4,
 "nbformat_minor": 0
}
