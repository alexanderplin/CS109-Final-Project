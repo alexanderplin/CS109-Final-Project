{
 "cells": [
  {
   "cell_type": "code",
   "execution_count": 68,
   "metadata": {
    "collapsed": false
   },
   "outputs": [
    {
     "name": "stdout",
     "output_type": "stream",
     "text": [
      "[nltk_data] Downloading package stopwords to\n",
      "[nltk_data]     C:\\Users\\Admin\\AppData\\Roaming\\nltk_data...\n",
      "[nltk_data]   Package stopwords is already up-to-date!\n",
      "[nltk_data] Downloading package averaged_perceptron_tagger to\n",
      "[nltk_data]     C:\\Users\\Admin\\AppData\\Roaming\\nltk_data...\n",
      "[nltk_data]   Package averaged_perceptron_tagger is already up-to-\n",
      "[nltk_data]       date!\n"
     ]
    }
   ],
   "source": [
    "import numpy as np\n",
    "import pandas as pd\n",
    "import matplotlib\n",
    "import matplotlib.pyplot as plt\n",
    "from sklearn import linear_model\n",
    "import nltk\n",
    "nltk.download(\"stopwords\")\n",
    "nltk.download('averaged_perceptron_tagger')\n",
    "from nltk.corpus import stopwords\n",
    "from datetime import timedelta\n",
    "from sklearn.linear_model import LogisticRegression as LogReg\n",
    "from sklearn.linear_model import LogisticRegressionCV as LogRegCV\n",
    "import math\n",
    "import string \n",
    "from six.moves.html_parser import HTMLParser\n",
    "import urllib2\n",
    "import json\n",
    "import time\n",
    "from functools import wraps\n",
    "from copy import deepcopy\n",
    "from sklearn.feature_extraction.text import CountVectorizer\n",
    "from nltk.stem.snowball import EnglishStemmer\n",
    "%matplotlib inline"
   ]
  },
  {
   "cell_type": "code",
   "execution_count": 43,
   "metadata": {
    "collapsed": false
   },
   "outputs": [
    {
     "name": "stdout",
     "output_type": "stream",
     "text": [
      "Number of total articles: 655600\n"
     ]
    }
   ],
   "source": [
    "df = pd.read_excel('10_year_data.xlsx')\n",
    "df['pub_date'] = pd.DatetimeIndex(df['pub_date']).normalize()\n",
    "#df['pub_date'] = pd.to_datetime(df['pub_date']).normalize()\n",
    "print 'Number of total articles:', df.shape[0]"
   ]
  },
  {
   "cell_type": "code",
   "execution_count": 53,
   "metadata": {
    "collapsed": true
   },
   "outputs": [],
   "source": [
    "\"\"\" data = pandas dataframe with columns 'pub_date', 'headline', 'paragraph'\n",
    "    option = 'headline' or 'paragraph' (default = 'headline')\n",
    "    date_filer = (start date, end date) inclusive; else if default = None, then no filter \n",
    "    word_filter = list of words to filter OPTION by (CASE SENSITIVE); default is None\n",
    "    pos = list of parts of speech tags (default = None)\n",
    "    stem = boolean, whether or not to stem (default = False)\"\"\"\n",
    "\n",
    "def filter_data(data, option = 'headline', date_filter = None, word_filter = None):\n",
    "    h = HTMLParser()\n",
    "    # does not stem stopwords\n",
    "    stemmer = EnglishStemmer(ignore_stopwords = True)\n",
    "    \n",
    "    # filter by dates\n",
    "    if date_filter is not None:\n",
    "        start_date, end_date = date_filter\n",
    "        filtered_data = data[(data['publish_date'] >= start_date) & (data['publish_date'] <= end_date)]\n",
    "    else:\n",
    "        filtered_data = data\n",
    "        \n",
    "    \n",
    "    # filter by words\n",
    "    if word_filter is not None:\n",
    "        idx_to_drop = [] # store indices of rows that do not contain filter words\n",
    "        \n",
    "        # for every article\n",
    "        for i in range(filtered_data.shape[0]):\n",
    "            text = filtered_data.iloc[i][option]\n",
    "            \n",
    "            # iterates through each filter word\n",
    "            filter_flag = 0\n",
    "            # if there is no text (type is not string)\n",
    "            if isinstance(text, basestring) is False:\n",
    "                idx_to_drop.append(i)\n",
    "                continue\n",
    "            for word in word_filter:\n",
    "                if word in text:\n",
    "                    filter_flag = 1\n",
    "                    break\n",
    "            # if no filter words in text, drop\n",
    "            if filter_flag == 0:\n",
    "                idx_to_drop.append(i)\n",
    "    \n",
    "    # drops rows without words in filter\n",
    "    filtered_data = filtered_data.drop(filtered_data.index[idx_to_drop])\n",
    "    \n",
    "    # remove caps\n",
    "    filtered_data[option] = filtered_data[option].str.lower()\n",
    "    \n",
    "    # remove punctuation\n",
    "    # remove html encoding puncuation from old news\n",
    "    html_encoding = ['&#8217;', '&#8212;', '&#038;', '&#8230;', '&#8220;', '&#8221;']\n",
    "    for i in range(filtered_data.shape[0]):\n",
    "        for encoding in html_encoding:\n",
    "            if encoding in filtered_data.iloc[i][option]:\n",
    "                index = filtered_data.index[i]\n",
    "                filtered_data.loc[index, option] = filtered_data.loc[index, option].replace(encoding, h.unescape(encoding))\n",
    "    \n",
    "    # remove other punctuation\n",
    "    punctuation = list(',.!@#$%^&*()\\'\\\"`:;?' + u'\\u2018' + u'\\u2019')\n",
    "    for c in punctuation:\n",
    "        filtered_data[option] = filtered_data[option].str.replace(c, '')\n",
    "    \n",
    "#     # remove stop words\n",
    "#     for i in range(filtered_data.shape[0]):\n",
    "#         headline = filtered_data.iloc[i][option]\n",
    "#         headline = headline.split()\n",
    "#         new_headline = []\n",
    "#         for word in headline:\n",
    "#             if word not in stopwords.words('english'):\n",
    "#                 new_headline += [word]\n",
    "        \n",
    "#         index = filtered_data.index[i]\n",
    "#         filtered_data.loc[index, option] = ' '.join(new_headline)\n",
    "                    \n",
    "    return filtered_data\n",
    "\n",
    "# makes bag of words given a pre-filtered DF and the option of using title or abstract\n",
    "def make_bag_of_words(df, option = 'headline'):\n",
    "    num_articles = df.shape[0]\n",
    "    words_lst = []\n",
    "    for i in range(num_articles):\n",
    "        words_lst += df.iloc[i][option].split()\n",
    "    \n",
    "    unique_words = list(set(words_lst))\n",
    "    print '\\nNumber of unique words across all text (including stopwords):', len(unique_words)\n",
    "    \n",
    "    # new predictors\n",
    "    bag_words = np.zeros((df.shape[0], len(unique_words)))\n",
    "    \n",
    "    # text of words is a list\n",
    "    for i in range(num_articles):\n",
    "        text = df.iloc[i][option].split()\n",
    "        for word in text:\n",
    "            word_col_num = unique_words.index(word)\n",
    "            bag_words[i, word_col_num] += 1\n",
    "    \n",
    "    print unique_words[:20]\n",
    "    print bag_words[:5, :20]\n",
    "    \n",
    "    return bag_words, unique_words\n",
    "\n",
    "def filter_misc(series, pos = None, stem = False):\n",
    "    new_series = pd.Series(index = series.index)\n",
    "    for index, text in enumerate(series):\n",
    "        if stem == True:\n",
    "            for word in text:\n",
    "                word = stemmer.stem(word)\n",
    "        if pos is not None:\n",
    "            new_series.iloc[index] = ' '.join([y for y,tag in nltk.pos_tag(nltk.word_tokenize(text)) if tag in pos])\n",
    "    return new_series"
   ]
  },
  {
   "cell_type": "code",
   "execution_count": 54,
   "metadata": {
    "collapsed": false
   },
   "outputs": [
    {
     "name": "stdout",
     "output_type": "stream",
     "text": [
      "Number of articles after filtering: 1430\n"
     ]
    }
   ],
   "source": [
    "filtered_df = filter_data(df, word_filter = ['Apple', 'AAPL', 'iPhone', 'iPod', 'MacBook'], option = 'headline')\n",
    "print 'Number of articles after filtering:', filtered_df.shape[0]"
   ]
  },
  {
   "cell_type": "code",
   "execution_count": 55,
   "metadata": {
    "collapsed": true
   },
   "outputs": [],
   "source": [
    "filtered_df.to_excel('10_year_filtered_data.xlsx')"
   ]
  },
  {
   "cell_type": "code",
   "execution_count": null,
   "metadata": {
    "collapsed": true
   },
   "outputs": [],
   "source": [
    "filtered_df = pd.read_excel('10_year_filtered_data.xlsx')"
   ]
  },
  {
   "cell_type": "code",
   "execution_count": 56,
   "metadata": {
    "collapsed": false
   },
   "outputs": [
    {
     "data": {
      "text/plain": [
       "[('honoring', 'VBG'),\n",
       " ('rw', 'NN'),\n",
       " ('apple', 'NN'),\n",
       " ('in', 'IN'),\n",
       " ('words', 'NNS'),\n",
       " ('and', 'CC'),\n",
       " ('food', 'NN')]"
      ]
     },
     "execution_count": 56,
     "metadata": {},
     "output_type": "execute_result"
    }
   ],
   "source": [
    "nltk.pos_tag(nltk.word_tokenize('honoring rw apple in words and food'))"
   ]
  },
  {
   "cell_type": "code",
   "execution_count": 57,
   "metadata": {
    "collapsed": false
   },
   "outputs": [
    {
     "data": {
      "text/html": [
       "<div>\n",
       "<table border=\"1\" class=\"dataframe\">\n",
       "  <thead>\n",
       "    <tr style=\"text-align: right;\">\n",
       "      <th></th>\n",
       "      <th>headline</th>\n",
       "      <th>paragraph</th>\n",
       "      <th>pub_date</th>\n",
       "    </tr>\n",
       "  </thead>\n",
       "  <tbody>\n",
       "    <tr>\n",
       "      <th>424</th>\n",
       "      <td>honoring rw apple in words and food</td>\n",
       "      <td>About 1,000 of R.W. Apple’s admirers turned ou...</td>\n",
       "      <td>2006-12-06</td>\n",
       "    </tr>\n",
       "    <tr>\n",
       "      <th>802</th>\n",
       "      <td>if an ipod gets you through the day this can s...</td>\n",
       "      <td>The XtremeMac Luna is an iPod dock that double...</td>\n",
       "      <td>2006-12-07</td>\n",
       "    </tr>\n",
       "    <tr>\n",
       "      <th>1919</th>\n",
       "      <td>apple and its actresses</td>\n",
       "      <td>To the Editor: Re ''She Sings! She Acts! She P...</td>\n",
       "      <td>2006-12-10</td>\n",
       "    </tr>\n",
       "    <tr>\n",
       "      <th>2203</th>\n",
       "      <td>sales of ipods and itunes not much in sync</td>\n",
       "      <td>The numbers suggest that iPods are not driving...</td>\n",
       "      <td>2006-12-11</td>\n",
       "    </tr>\n",
       "    <tr>\n",
       "      <th>2434</th>\n",
       "      <td>a fund plans to offer a rival slate of directo...</td>\n",
       "      <td>This is the first time the fund, Breeden Capit...</td>\n",
       "      <td>2006-12-12</td>\n",
       "    </tr>\n",
       "  </tbody>\n",
       "</table>\n",
       "</div>"
      ],
      "text/plain": [
       "                                               headline  \\\n",
       "424                 honoring rw apple in words and food   \n",
       "802   if an ipod gets you through the day this can s...   \n",
       "1919                            apple and its actresses   \n",
       "2203         sales of ipods and itunes not much in sync   \n",
       "2434  a fund plans to offer a rival slate of directo...   \n",
       "\n",
       "                                              paragraph   pub_date  \n",
       "424   About 1,000 of R.W. Apple’s admirers turned ou... 2006-12-06  \n",
       "802   The XtremeMac Luna is an iPod dock that double... 2006-12-07  \n",
       "1919  To the Editor: Re ''She Sings! She Acts! She P... 2006-12-10  \n",
       "2203  The numbers suggest that iPods are not driving... 2006-12-11  \n",
       "2434  This is the first time the fund, Breeden Capit... 2006-12-12  "
      ]
     },
     "execution_count": 57,
     "metadata": {},
     "output_type": "execute_result"
    }
   ],
   "source": [
    "filtered_df.head(n=5)"
   ]
  },
  {
   "cell_type": "code",
   "execution_count": 59,
   "metadata": {
    "collapsed": false,
    "scrolled": true
   },
   "outputs": [],
   "source": [
    "filtered_df['headline'] = filter_misc(filtered_df['headline'], pos = ['NN', 'JJ'], stem = False)"
   ]
  },
  {
   "cell_type": "code",
   "execution_count": 63,
   "metadata": {
    "collapsed": false
   },
   "outputs": [],
   "source": [
    "vectorizer = CountVectorizer(stop_words = 'english')\n",
    "vectorized_1gram = vectorizer.fit_transform(filtered_df['headline']).toarray()"
   ]
  },
  {
   "cell_type": "code",
   "execution_count": 66,
   "metadata": {
    "collapsed": false
   },
   "outputs": [
    {
     "name": "stdout",
     "output_type": "stream",
     "text": [
      "(1685L,)\n",
      "[(787, u'apple'), (352, u'iphone'), (78, u'new'), (60, u'ipod'), (42, u'case'), (41, u'music'), (36, u'big'), (35, u'app'), (35, u'china'), (30, u'samsung'), (29, u'google'), (27, u'watch'), (25, u'patent'), (19, u'chief'), (19, u'profit'), (18, u'tax'), (18, u'tv'), (16, u'apps'), (16, u'fbi'), (16, u'service'), (16, u'software'), (16, u'week'), (15, u'ipad'), (15, u'mobile'), (14, u'deal'), (14, u'video'), (13, u'att'), (13, u'book'), (13, u'donald'), (13, u'fight'), (13, u'microsoft'), (13, u'pay'), (13, u'store'), (13, u'trump'), (12, u'tech'), (11, u'court'), (11, u'day'), (11, u'dispute'), (11, u'executive'), (11, u'macbook'), (11, u'phone'), (11, u'privacy'), (11, u'review'), (11, u'rival'), (10, u'cook'), (10, u'market'), (10, u'pie'), (9, u'cake'), (9, u'judge'), (9, u'price')]\n"
     ]
    }
   ],
   "source": [
    "# Number of Top words to Look At\n",
    "num_top_words = 50\n",
    "bag_to_use = vectorized_1gram\n",
    "feature_names_to_use = vectorizer.get_feature_names()\n",
    "\n",
    "# Count the number of time each word occurs in the entire dataset\n",
    "word_freq = bag_to_use.sum(axis=0)\n",
    "print word_freq.shape\n",
    "\n",
    "words = zip(word_freq, feature_names_to_use)\n",
    "top_words = (sorted(words, key=lambda t: t[0], reverse=True))[:num_top_words]\n",
    "\n",
    "print top_words"
   ]
  },
  {
   "cell_type": "code",
   "execution_count": 69,
   "metadata": {
    "collapsed": false
   },
   "outputs": [
    {
     "data": {
      "image/png": "[encoded data removed]",
      "text/plain": [
       "<matplotlib.figure.Figure at 0xc8b52e8>"
      ]
     },
     "metadata": {},
     "output_type": "display_data"
    }
   ],
   "source": [
    "fig, ax = plt.subplots(1, 1, figsize=(15, 6))\n",
    "\n",
    "#Number of bars to use\n",
    "indices = np.arange(num_top_words)\n",
    "#Where to put the label under each bar\n",
    "width = 0.5\n",
    "#Bar plot of the frequencies of the top words\n",
    "ax.bar(indices, [word[0] for word in top_words], color='blue', alpha=0.5)\n",
    "\n",
    "ax.set_ylabel('Frequency')\n",
    "ax.set_title('Top ' + str(num_top_words) + ' Words')\n",
    "\n",
    "#Label the bars with the top words\n",
    "ax.set_xticks(indices + width)\n",
    "ax.set_xticklabels([word[1] for word in top_words])\n",
    "\n",
    "#Turn the labels sideways so they don't overlap\n",
    "labels = ax.get_xticklabels()\n",
    "plt.setp(labels, rotation=90, fontsize=10)\n",
    "\n",
    "plt.show()"
   ]
  },
  {
   "cell_type": "code",
   "execution_count": 70,
   "metadata": {
    "collapsed": false
   },
   "outputs": [
    {
     "data": {
      "text/html": [
       "<div>\n",
       "<table border=\"1\" class=\"dataframe\">\n",
       "  <thead>\n",
       "    <tr style=\"text-align: right;\">\n",
       "      <th></th>\n",
       "      <th>date</th>\n",
       "      <th>close</th>\n",
       "      <th>volume</th>\n",
       "      <th>open</th>\n",
       "      <th>high</th>\n",
       "      <th>low</th>\n",
       "    </tr>\n",
       "  </thead>\n",
       "  <tbody>\n",
       "    <tr>\n",
       "      <th>0</th>\n",
       "      <td>2016-12-02</td>\n",
       "      <td>109.90</td>\n",
       "      <td>26481320.0</td>\n",
       "      <td>109.170</td>\n",
       "      <td>110.090</td>\n",
       "      <td>108.85</td>\n",
       "    </tr>\n",
       "    <tr>\n",
       "      <th>1</th>\n",
       "      <td>2016-12-01</td>\n",
       "      <td>109.49</td>\n",
       "      <td>37034520.0</td>\n",
       "      <td>110.365</td>\n",
       "      <td>110.940</td>\n",
       "      <td>109.03</td>\n",
       "    </tr>\n",
       "    <tr>\n",
       "      <th>2</th>\n",
       "      <td>2016-11-30</td>\n",
       "      <td>110.52</td>\n",
       "      <td>36151450.0</td>\n",
       "      <td>111.600</td>\n",
       "      <td>112.200</td>\n",
       "      <td>110.27</td>\n",
       "    </tr>\n",
       "    <tr>\n",
       "      <th>3</th>\n",
       "      <td>2016-11-29</td>\n",
       "      <td>111.46</td>\n",
       "      <td>28507780.0</td>\n",
       "      <td>110.780</td>\n",
       "      <td>112.030</td>\n",
       "      <td>110.07</td>\n",
       "    </tr>\n",
       "    <tr>\n",
       "      <th>4</th>\n",
       "      <td>2016-11-28</td>\n",
       "      <td>111.57</td>\n",
       "      <td>27054320.0</td>\n",
       "      <td>111.430</td>\n",
       "      <td>112.465</td>\n",
       "      <td>111.39</td>\n",
       "    </tr>\n",
       "  </tbody>\n",
       "</table>\n",
       "</div>"
      ],
      "text/plain": [
       "        date   close      volume     open     high     low\n",
       "0 2016-12-02  109.90  26481320.0  109.170  110.090  108.85\n",
       "1 2016-12-01  109.49  37034520.0  110.365  110.940  109.03\n",
       "2 2016-11-30  110.52  36151450.0  111.600  112.200  110.27\n",
       "3 2016-11-29  111.46  28507780.0  110.780  112.030  110.07\n",
       "4 2016-11-28  111.57  27054320.0  111.430  112.465  111.39"
      ]
     },
     "execution_count": 70,
     "metadata": {},
     "output_type": "execute_result"
    }
   ],
   "source": [
    "# load stock price\n",
    "stock_price = pd.read_csv('12-4-06-to-12-3-16-Quotes.csv', parse_dates = [0], keep_date_col = True, encoding = 'cp1252')\n",
    "stock_price.head(n=5)"
   ]
  },
  {
   "cell_type": "code",
   "execution_count": 71,
   "metadata": {
    "collapsed": true
   },
   "outputs": [],
   "source": [
    "\"\"\" Function returns the nearest date closest to the given date\n",
    "        stock_df: a dataframe\n",
    "        date: a date in date format \n",
    "        time_type: \"before\" or \"after\"\n",
    "            \"before\": finds the nearest business day before the given date\n",
    "            \"after\": finds the nearest business day after the given date \"\"\"\n",
    "def find_nearest_biz_day(stock_df, date, time_type, counter = 0):\n",
    "    if counter > 10:\n",
    "        return None\n",
    "    price = stock_df[stock_df['date'] == date]['close'].values\n",
    "    if time_type == 'after':\n",
    "        # if date exists (i.e., not weekend or holiday)\n",
    "        if price.size != 0:\n",
    "            return date\n",
    "        # if weekend or holiday\n",
    "        else:\n",
    "            new_date = date + timedelta(days = 1)\n",
    "            counter += 1\n",
    "            return find_nearest_biz_day(stock_df, date + timedelta(days = 1), 'after', counter)\n",
    "    elif time_type == 'before' or time_type == 'before and done':\n",
    "        day_before_price = stock_df[stock_df['date'] == date - timedelta(days = 1)]['close'].values\n",
    "        # if date exists (i.e., not weekend or holiday)\n",
    "        if price.size != 0 and day_before_price != 0 and time_type == 'before':\n",
    "            return date - timedelta(days = 1)\n",
    "        elif price.size != 0 and time_type == 'before and done':\n",
    "            return date\n",
    "        # if weekend or holiday\n",
    "        else:\n",
    "            counter+= 1\n",
    "            return find_nearest_biz_day(stock_df, date - timedelta(days = 1), 'before and done', counter)"
   ]
  },
  {
   "cell_type": "code",
   "execution_count": null,
   "metadata": {
    "collapsed": true
   },
   "outputs": [],
   "source": []
  }
 ],
 "metadata": {
  "kernelspec": {
   "display_name": "Python [Root]",
   "language": "python",
   "name": "Python [Root]"
  },
  "language_info": {
   "codemirror_mode": {
    "name": "ipython",
    "version": 2
   },
   "file_extension": ".py",
   "mimetype": "text/x-python",
   "name": "python",
   "nbconvert_exporter": "python",
   "pygments_lexer": "ipython2",
   "version": "2.7.12"
  }
 },
 "nbformat": 4,
 "nbformat_minor": 0
}
